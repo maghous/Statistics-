{
 "cells": [
  {
   "cell_type": "code",
   "execution_count": 2,
   "id": "5f8e59e6",
   "metadata": {},
   "outputs": [],
   "source": [
    "import numpy as np \n",
    "import scipy.stats as sp "
   ]
  },
  {
   "cell_type": "markdown",
   "id": "9e1aff0d",
   "metadata": {},
   "source": [
    "# 1. Test sur la moyenne d'une loi normale"
   ]
  },
  {
   "cell_type": "markdown",
   "id": "781a49c6",
   "metadata": {},
   "source": [
    "### Q1"
   ]
  },
  {
   "cell_type": "code",
   "execution_count": 3,
   "id": "925ee4c2",
   "metadata": {},
   "outputs": [],
   "source": [
    "#code\n",
    "def TestStudent(L,alpha):\n",
    "    n=len(L)\n",
    "    Z=np.sqrt(n)*np.abs(np.mean(L))/np.var(L,ddof=1)\n",
    "    return(Z>sp.t.ppf(1-alpha/2,n-1))\n",
    "    #if Z>sp.t.ppf(1-alpha/2,n-1):\n",
    "        #return False\n",
    "    #else:\n",
    "        #return True"
   ]
  },
  {
   "cell_type": "markdown",
   "id": "a86ec4dc",
   "metadata": {},
   "source": [
    " ### Q2"
   ]
  },
  {
   "cell_type": "code",
   "execution_count": 4,
   "id": "3c820fd5",
   "metadata": {},
   "outputs": [
    {
     "data": {
      "text/plain": [
       "False"
      ]
     },
     "execution_count": 4,
     "metadata": {},
     "output_type": "execute_result"
    }
   ],
   "source": [
    "#test\n",
    "mu, sigma = 0, 1 \n",
    "L= np.random.normal(mu, sigma, 50)\n",
    "alpha=0.01\n",
    "TestStudent(L,alpha)\n",
    "#on ne rejette pas H_0"
   ]
  },
  {
   "cell_type": "code",
   "execution_count": 5,
   "id": "473cc003",
   "metadata": {},
   "outputs": [
    {
     "data": {
      "text/plain": [
       "True"
      ]
     },
     "execution_count": 5,
     "metadata": {},
     "output_type": "execute_result"
    }
   ],
   "source": [
    "L= np.random.normal(1,1, 50)\n",
    "TestStudent(L,alpha)\n",
    "#on rejette H_0"
   ]
  },
  {
   "cell_type": "markdown",
   "id": "93aeee17",
   "metadata": {},
   "source": [
    "### Q3"
   ]
  },
  {
   "cell_type": "code",
   "execution_count": 6,
   "id": "51d6ede8",
   "metadata": {},
   "outputs": [
    {
     "name": "stdout",
     "output_type": "stream",
     "text": [
      "On a 932 fois l'hypothèse qui est acceptée et  68 fois rejettée.\n"
     ]
    }
   ],
   "source": [
    "#alpha=0.05\n",
    "z=[TestStudent(np.random.normal(0,1,50),0.05) for i in np.arange(1000)]\n",
    "print(\"On a\", 1000 - np.sum(z), \"fois l'hypothèse qui est acceptée et \", np.sum(z), \"fois rejettée.\" )"
   ]
  },
  {
   "cell_type": "code",
   "execution_count": 6,
   "id": "2afb8e99",
   "metadata": {},
   "outputs": [
    {
     "name": "stdout",
     "output_type": "stream",
     "text": [
      "On a 983 fois l'hypothèse qui est acceptée et  17 fois rejettée.\n"
     ]
    }
   ],
   "source": [
    "#alpha=0.01\n",
    "z=[TestStudent(np.random.normal(0,1,50),0.01) for i in np.arange(1000)]\n",
    "print(\"On a\", 1000 - np.sum(z), \"fois l'hypothèse qui est acceptée et \", np.sum(z), \"fois rejettée.\" )"
   ]
  },
  {
   "cell_type": "markdown",
   "id": "4b509dcc",
   "metadata": {},
   "source": [
    "### Q4"
   ]
  },
  {
   "cell_type": "code",
   "execution_count": 7,
   "id": "2acd961c",
   "metadata": {},
   "outputs": [],
   "source": [
    "def PValeurStudent(L):\n",
    "    n=len(L)\n",
    "    Z=np.sqrt(n)*np.abs(np.mean(L))/np.var(L,ddof=1)\n",
    "    p=2 - 2*sp.t.cdf(Z,n-1,0,1)\n",
    "    print(\"La p-valeur de notre test de Student est\", p) "
   ]
  },
  {
   "cell_type": "markdown",
   "id": "2b00a531",
   "metadata": {},
   "source": [
    "### Q5"
   ]
  },
  {
   "cell_type": "code",
   "execution_count": 9,
   "id": "d7ccf11e",
   "metadata": {},
   "outputs": [
    {
     "name": "stdout",
     "output_type": "stream",
     "text": [
      "La p-valeur de notre test de Student est 0.333377527399197\n",
      "None\n",
      "Ttest_1sampResult(statistic=-0.8689814143255308, pvalue=0.3890939123726398)\n"
     ]
    }
   ],
   "source": [
    "z= np.random.normal(0,1, 50)\n",
    "print(PValeurStudent(z))\n",
    "print(sp.ttest_1samp(z,0))"
   ]
  },
  {
   "cell_type": "markdown",
   "id": "5460ebe7",
   "metadata": {},
   "source": [
    "### Q6 "
   ]
  },
  {
   "cell_type": "code",
   "execution_count": 10,
   "id": "6905da93",
   "metadata": {},
   "outputs": [],
   "source": [
    "dat=np.load(\"HeartRate.npy\")"
   ]
  },
  {
   "cell_type": "markdown",
   "id": "550bfb77",
   "metadata": {},
   "source": [
    "$H_0$ : Il n'y a pas de différences entre fréquence cardiaque avant et après une course $\\newline$\n",
    "$H_1$: Il y a pas de différence "
   ]
  },
  {
   "cell_type": "code",
   "execution_count": 10,
   "id": "65fcbb1a",
   "metadata": {},
   "outputs": [
    {
     "data": {
      "text/plain": [
       "array([[ 71, 132],\n",
       "       [ 64, 156],\n",
       "       [ 72, 138],\n",
       "       ...,\n",
       "       [ 58, 166],\n",
       "       [ 66, 164],\n",
       "       [ 70, 158]])"
      ]
     },
     "execution_count": 10,
     "metadata": {},
     "output_type": "execute_result"
    }
   ],
   "source": [
    "dat"
   ]
  },
  {
   "cell_type": "code",
   "execution_count": 11,
   "id": "4beb0f06",
   "metadata": {},
   "outputs": [],
   "source": [
    "repos = dat[:,0]\n",
    "course = dat[:,1]\n",
    "diff = course - repos"
   ]
  },
  {
   "cell_type": "code",
   "execution_count": 12,
   "id": "470ea47c",
   "metadata": {},
   "outputs": [
    {
     "data": {
      "text/plain": [
       "800"
      ]
     },
     "execution_count": 12,
     "metadata": {},
     "output_type": "execute_result"
    }
   ],
   "source": [
    "len(diff)"
   ]
  },
  {
   "cell_type": "code",
   "execution_count": 13,
   "id": "06ab5419",
   "metadata": {},
   "outputs": [
    {
     "data": {
      "text/plain": [
       "True"
      ]
     },
     "execution_count": 13,
     "metadata": {},
     "output_type": "execute_result"
    }
   ],
   "source": [
    "TestStudent(diff,0.01)"
   ]
  },
  {
   "cell_type": "code",
   "execution_count": 14,
   "id": "9485309c",
   "metadata": {},
   "outputs": [
    {
     "data": {
      "text/plain": [
       "True"
      ]
     },
     "execution_count": 14,
     "metadata": {},
     "output_type": "execute_result"
    }
   ],
   "source": [
    "TestStudent(diff,0.05)"
   ]
  },
  {
   "cell_type": "markdown",
   "id": "eeda2c93",
   "metadata": {},
   "source": [
    "Donc on rejette $H_0$ aux risques 0.01 et 0.05 , on peut donc dire qu'il y a une différence significative de la fréquence cardiaque avant et après une course à pied. "
   ]
  },
  {
   "cell_type": "markdown",
   "id": "0b1aeba1",
   "metadata": {},
   "source": [
    "# Test du chi2 d'adéquation "
   ]
  },
  {
   "cell_type": "markdown",
   "id": "5b030abd",
   "metadata": {},
   "source": [
    "## Exemple du loto "
   ]
  },
  {
   "cell_type": "code",
   "execution_count": 12,
   "id": "3e35590b",
   "metadata": {},
   "outputs": [],
   "source": [
    "Loto = np.load(\"Loto.npy\")"
   ]
  },
  {
   "cell_type": "markdown",
   "id": "bee662d0",
   "metadata": {},
   "source": [
    "### Q1"
   ]
  },
  {
   "cell_type": "markdown",
   "id": "a6ab6cca",
   "metadata": {},
   "source": [
    "$H_0$ : Toutes les boules ont une probabilité égale d'être tirées $\\newline$\n",
    "$H_1$: Les boules n'ont pas une probabilité égale d'être tirées "
   ]
  },
  {
   "cell_type": "markdown",
   "id": "0515dce7",
   "metadata": {},
   "source": [
    "### Q2"
   ]
  },
  {
   "cell_type": "code",
   "execution_count": 13,
   "id": "ffe9dad8",
   "metadata": {},
   "outputs": [
    {
     "data": {
      "text/plain": [
       "array([710, 681, 674, 720, 702, 707, 722, 675, 676, 683, 672, 670, 682,\n",
       "       670, 692, 730, 658, 687, 704, 695, 685, 669, 679, 682, 681, 687,\n",
       "       704, 680, 652, 716, 716, 700, 661, 745, 719, 730, 703, 726, 722,\n",
       "       694, 689, 703, 686, 692, 736, 709, 666, 675, 689], dtype=int64)"
      ]
     },
     "execution_count": 13,
     "metadata": {},
     "output_type": "execute_result"
    }
   ],
   "source": [
    "Loto"
   ]
  },
  {
   "cell_type": "code",
   "execution_count": 14,
   "id": "623220de",
   "metadata": {},
   "outputs": [
    {
     "name": "stdout",
     "output_type": "stream",
     "text": [
      "La statistique que l'on a calculée nous renvoie 33.19884726224783\n"
     ]
    }
   ],
   "source": [
    "val_att = np.full((49,), (7*4858)/49)\n",
    "\n",
    "chi2 = 0\n",
    "for i in range(49):\n",
    "    chi2 = chi2 + ((Loto[i] - val_att[i])**2)/val_att[i]\n",
    "\n",
    "print(\"La statistique que l'on a calculée nous renvoie\",chi2)"
   ]
  },
  {
   "cell_type": "code",
   "execution_count": 17,
   "id": "b0faa2f6",
   "metadata": {},
   "outputs": [
    {
     "data": {
      "text/plain": [
       "Power_divergenceResult(statistic=33.198847262247845, pvalue=0.9486238047722398)"
      ]
     },
     "execution_count": 17,
     "metadata": {},
     "output_type": "execute_result"
    }
   ],
   "source": [
    "sp.chisquare(Loto)"
   ]
  },
  {
   "cell_type": "markdown",
   "id": "d9e7a700",
   "metadata": {},
   "source": [
    "### Q3"
   ]
  },
  {
   "cell_type": "markdown",
   "id": "5c77d019",
   "metadata": {},
   "source": [
    "La stastique à pour loi asymptotique sous H0 une loi du chi2 à 48 degré de liberté$\\newline$\n",
    "le quantile de niveau 0.95 de la loi correspondante est :"
   ]
  },
  {
   "cell_type": "code",
   "execution_count": 18,
   "id": "e4166aa5",
   "metadata": {},
   "outputs": [
    {
     "data": {
      "text/plain": [
       "65.17076890356982"
      ]
     },
     "execution_count": 18,
     "metadata": {},
     "output_type": "execute_result"
    }
   ],
   "source": [
    "sp.chi2.ppf(0.95,48, loc=0, scale=1)\n"
   ]
  },
  {
   "cell_type": "markdown",
   "id": "8c4d2e9e",
   "metadata": {},
   "source": [
    "### Q4"
   ]
  },
  {
   "cell_type": "code",
   "execution_count": 51,
   "id": "6be34db4",
   "metadata": {},
   "outputs": [
    {
     "data": {
      "text/plain": [
       "False"
      ]
     },
     "execution_count": 51,
     "metadata": {},
     "output_type": "execute_result"
    }
   ],
   "source": [
    "chi2 > sp.chi2.ppf(0.95,48, loc=0, scale=1)"
   ]
  },
  {
   "cell_type": "markdown",
   "id": "870a57b2",
   "metadata": {},
   "source": [
    "Notre statistique est inférieure au quantile d'ordre 0.95 de la loi du chi2 à 48 degré de liberté, donc on ne rejette pas l'hypothèse H0 et on peut dire que l'on suit une loi uniforme et donc que la probabilité de tirer chaque boule est bien égale."
   ]
  },
  {
   "cell_type": "markdown",
   "id": "be607d6a",
   "metadata": {},
   "source": [
    "## La loi de Benford"
   ]
  },
  {
   "cell_type": "code",
   "execution_count": 19,
   "id": "84875ca1",
   "metadata": {},
   "outputs": [],
   "source": [
    "France=np.load(\"France.npy\")"
   ]
  },
  {
   "cell_type": "markdown",
   "id": "7261d899",
   "metadata": {},
   "source": [
    "### Q1"
   ]
  },
  {
   "cell_type": "code",
   "execution_count": 20,
   "id": "4f88e4c5",
   "metadata": {},
   "outputs": [
    {
     "name": "stdout",
     "output_type": "stream",
     "text": [
      "Nos propotions d'appartition de chaque chiffre sont [0.3024 0.1764 0.1279 0.0939 0.0814 0.0671 0.057  0.0504 0.0435]\n"
     ]
    }
   ],
   "source": [
    "def premier_chiffre(L):\n",
    "    n = len(L)\n",
    "    A = []\n",
    "    for i in range(n):\n",
    "        A.append(int(str(L[i])[0]))\n",
    "    return A\n",
    "    \n",
    "\n",
    "chiffre_sign = np.array(premier_chiffre(France)).astype(int)\n",
    "prop = (np.unique(chiffre_sign, return_counts= True)[1])/10000\n",
    "print(\"Nos propotions d'appartition de chaque chiffre sont\" ,prop)"
   ]
  },
  {
   "cell_type": "markdown",
   "id": "fdd645ac",
   "metadata": {},
   "source": [
    "### Q2"
   ]
  },
  {
   "cell_type": "code",
   "execution_count": 21,
   "id": "550fed29",
   "metadata": {},
   "outputs": [],
   "source": [
    "B = []\n",
    "for i in range(1, 10):\n",
    "    B.append(np.log10(1+(1/i)))\n",
    "\n",
    "B = np.array(B)"
   ]
  },
  {
   "cell_type": "code",
   "execution_count": 22,
   "id": "43fa0398",
   "metadata": {},
   "outputs": [
    {
     "data": {
      "text/plain": [
       "array([0.30103   , 0.17609126, 0.12493874, 0.09691001, 0.07918125,\n",
       "       0.06694679, 0.05799195, 0.05115252, 0.04575749])"
      ]
     },
     "execution_count": 22,
     "metadata": {},
     "output_type": "execute_result"
    }
   ],
   "source": [
    "B"
   ]
  },
  {
   "cell_type": "markdown",
   "id": "6da06b0c",
   "metadata": {},
   "source": [
    "### Q3"
   ]
  },
  {
   "cell_type": "code",
   "execution_count": 24,
   "id": "12871a26",
   "metadata": {},
   "outputs": [
    {
     "name": "stdout",
     "output_type": "stream",
     "text": [
      "La statistique que l'on a calculée nous renvoie 0.00037239003373248155\n"
     ]
    },
    {
     "data": {
      "text/plain": [
       "Power_divergenceResult(statistic=0.00037239003373248155, pvalue=1.0)"
      ]
     },
     "execution_count": 24,
     "metadata": {},
     "output_type": "execute_result"
    }
   ],
   "source": [
    "chi2_2 = 0\n",
    "for i in range(9):\n",
    "    chi2_2 = chi2_2 + ((prop[i] - B[i])**2)/B[i]\n",
    "\n",
    "print(\"La statistique que l'on a calculée nous renvoie\",chi2_2)\n",
    "\n",
    "sp.chisquare(prop, B)"
   ]
  },
  {
   "cell_type": "markdown",
   "id": "0c2d281d-5302-4125-b77c-36244c927f6a",
   "metadata": {},
   "source": [
    "On trouve bien la même statistique que la fonction fournie."
   ]
  },
  {
   "cell_type": "markdown",
   "id": "4a3e6be0",
   "metadata": {},
   "source": [
    "### Q4"
   ]
  },
  {
   "cell_type": "code",
   "execution_count": 64,
   "id": "ba8ff438",
   "metadata": {},
   "outputs": [
    {
     "data": {
      "text/plain": [
       "15.50731305586545"
      ]
     },
     "execution_count": 64,
     "metadata": {},
     "output_type": "execute_result"
    }
   ],
   "source": [
    "sp.chi2.ppf(0.95,8, loc=0, scale=1)"
   ]
  },
  {
   "cell_type": "code",
   "execution_count": 65,
   "id": "e0ec9f5a-3ae6-4a44-82d2-4325384d0110",
   "metadata": {},
   "outputs": [
    {
     "data": {
      "text/plain": [
       "False"
      ]
     },
     "execution_count": 65,
     "metadata": {},
     "output_type": "execute_result"
    }
   ],
   "source": [
    "chi2_2 > sp.chi2.ppf(0.95,8, loc=0, scale=1) "
   ]
  },
  {
   "cell_type": "markdown",
   "id": "292bae87-4a00-4874-958b-07754a4c62a3",
   "metadata": {},
   "source": [
    "Ainsi notre statistique est inférieure au quantile d'ordre 0.95 de la loi du chi2 à 8 degrés de liberté, donc on ne rejette pas l'hypothèse H0 et on peut dire que la loi de notre jeu de données suit bien une loi de Benford."
   ]
  },
  {
   "cell_type": "markdown",
   "id": "c3966dd6",
   "metadata": {},
   "source": [
    "# Test du chi 2 d'indépendance \n",
    "## 3.1 Cancer de l'oesophage\n",
    "### Q1"
   ]
  },
  {
   "cell_type": "markdown",
   "id": "7d7b5971",
   "metadata": {},
   "source": [
    "H0 : La loi de la consommation d'alcool quotidienne et la loi de la présence cancer sont indépendantes.$\\newline$\n",
    "H1 : Elles ne sont pas indépendantes. "
   ]
  },
  {
   "cell_type": "markdown",
   "id": "7427397a",
   "metadata": {},
   "source": [
    "### Q2"
   ]
  },
  {
   "cell_type": "code",
   "execution_count": 69,
   "id": "3d88fc19",
   "metadata": {},
   "outputs": [
    {
     "data": {
      "text/plain": [
       "array([[ 29, 386, 415],\n",
       "       [ 75, 280, 355],\n",
       "       [ 51,  87, 138],\n",
       "       [ 45,  22,  67],\n",
       "       [200, 775, 975]])"
      ]
     },
     "execution_count": 69,
     "metadata": {},
     "output_type": "execute_result"
    }
   ],
   "source": [
    "np.array([[29, 386, 415], [75, 280, 355], [51, 87, 138], [45, 22, 67], [200, 775, 975]])"
   ]
  },
  {
   "cell_type": "code",
   "execution_count": 75,
   "id": "061f1035",
   "metadata": {},
   "outputs": [
    {
     "name": "stdout",
     "output_type": "stream",
     "text": [
      "158.95457113567429\n"
     ]
    }
   ],
   "source": [
    "Cancer = np.array([[29, 386, 415], [75, 280, 355], [51, 87, 138], [45, 22, 67], [200, 775, 975]])\n",
    "\n",
    "chi2_3 = 0\n",
    "for i in range(4):\n",
    "    for j in range(2):\n",
    "        chi2_3 = chi2_3 + ((Cancer[i, j]- (Cancer[4,j]*Cancer[i,2])/Cancer[4,2])**2)/((Cancer[4,j]*Cancer[i,2])/Cancer[4,2])\n",
    "print(chi2_3)        "
   ]
  },
  {
   "cell_type": "code",
   "execution_count": 77,
   "id": "f79b3289",
   "metadata": {},
   "outputs": [
    {
     "data": {
      "text/plain": [
       "158.9545711356743"
      ]
     },
     "execution_count": 77,
     "metadata": {},
     "output_type": "execute_result"
    }
   ],
   "source": [
    "sp.chi2_contingency(Cancer)[0]"
   ]
  },
  {
   "cell_type": "markdown",
   "id": "937ac16f-8786-46ac-ac98-1f9c130ee552",
   "metadata": {},
   "source": [
    "Notre fonction nous a bien renvoyé la même statistique que la fonction fournie."
   ]
  },
  {
   "cell_type": "markdown",
   "id": "24dad854",
   "metadata": {},
   "source": [
    "### Q3"
   ]
  },
  {
   "cell_type": "markdown",
   "id": "9e3f0df2-0307-4994-9ec2-bfe470d0eb6e",
   "metadata": {},
   "source": [
    "Sous H0, notre statistique à pour un loi asymptotique un chi2 à $(4-1)*(1-1)= 3$ ddl"
   ]
  },
  {
   "cell_type": "code",
   "execution_count": 78,
   "id": "95a2ac97",
   "metadata": {},
   "outputs": [
    {
     "data": {
      "text/plain": [
       "True"
      ]
     },
     "execution_count": 78,
     "metadata": {},
     "output_type": "execute_result"
    }
   ],
   "source": [
    "\n",
    "chi2_3 > sp.chi2.ppf(0.95,3, loc=0, scale=1)"
   ]
  },
  {
   "cell_type": "markdown",
   "id": "12e07b5e",
   "metadata": {},
   "source": [
    "Notre statistique est supérieure au quantile d'ordre 0.95 de la loi du chi2 à 3 ddl, donc on rejette H0 et on peut dire que la consommation quotidienne d'alcool est liée à la présence d'un cancer chez un individu."
   ]
  },
  {
   "cell_type": "markdown",
   "id": "4ffd0adc-06e2-43f8-83d4-56cbeb0b4107",
   "metadata": {},
   "source": [
    "### Q4"
   ]
  },
  {
   "cell_type": "markdown",
   "id": "202f12e6-c038-4f9b-848d-d544e4021c12",
   "metadata": {},
   "source": [
    "H0 : La loi de la consommation de tabac quotidienne et la loi de la présence cancer sont indépendantes.$\\newline$\n",
    "H1 : Elles ne sont pas indépendantes."
   ]
  },
  {
   "cell_type": "code",
   "execution_count": 80,
   "id": "c606af66",
   "metadata": {},
   "outputs": [],
   "source": [
    "Cancer2 = np.array([[78, 447, 525], [58, 178, 236], [33, 99, 132], [31, 51, 82], [200, 775, 975]])"
   ]
  },
  {
   "cell_type": "code",
   "execution_count": 81,
   "id": "205d0333",
   "metadata": {},
   "outputs": [
    {
     "name": "stdout",
     "output_type": "stream",
     "text": [
      "29.35701656004785\n"
     ]
    }
   ],
   "source": [
    "chi2_4 = 0\n",
    "for i in range(4):\n",
    "    for j in range(2):\n",
    "        chi2_4 = chi2_4 + ((Cancer2[i, j]- (Cancer2[4,j]*Cancer2[i,2])/Cancer2[4,2])**2)/((Cancer2[4,j]*Cancer2[i,2])/Cancer2[4,2])\n",
    "print(chi2_4)"
   ]
  },
  {
   "cell_type": "code",
   "execution_count": 83,
   "id": "b8943482",
   "metadata": {},
   "outputs": [
    {
     "data": {
      "text/plain": [
       "29.35701656004785"
      ]
     },
     "execution_count": 83,
     "metadata": {},
     "output_type": "execute_result"
    }
   ],
   "source": [
    "sp.chi2_contingency(Cancer2)[0]"
   ]
  },
  {
   "cell_type": "code",
   "execution_count": 85,
   "id": "fbd43e99",
   "metadata": {},
   "outputs": [
    {
     "data": {
      "text/plain": [
       "True"
      ]
     },
     "execution_count": 85,
     "metadata": {},
     "output_type": "execute_result"
    }
   ],
   "source": [
    "chi2_4 > sp.chi2.ppf(0.95,3, loc=0, scale=1)"
   ]
  },
  {
   "cell_type": "markdown",
   "id": "d79e7d96",
   "metadata": {},
   "source": [
    "Notre statistique est suupérieure au quantile de la loi du chi2 à 3 ddl, donc on rejette H_0 et on peut dire que la consommation de tabac quotidienne est liée à la présence d'un cancer chez un individu."
   ]
  },
  {
   "cell_type": "markdown",
   "id": "406968f0",
   "metadata": {},
   "source": [
    "### Q5"
   ]
  },
  {
   "cell_type": "code",
   "execution_count": 87,
   "id": "82931044",
   "metadata": {},
   "outputs": [
    {
     "data": {
      "text/plain": [
       "2.6456045978342372e-30"
      ]
     },
     "execution_count": 87,
     "metadata": {},
     "output_type": "execute_result"
    }
   ],
   "source": [
    "sp.chi2_contingency(Cancer)[1]"
   ]
  },
  {
   "cell_type": "code",
   "execution_count": 86,
   "id": "ee300260",
   "metadata": {},
   "outputs": [
    {
     "data": {
      "text/plain": [
       "0.0002744470597839162"
      ]
     },
     "execution_count": 86,
     "metadata": {},
     "output_type": "execute_result"
    }
   ],
   "source": [
    "sp.chi2_contingency(Cancer2)[1]"
   ]
  },
  {
   "cell_type": "code",
   "execution_count": 88,
   "id": "ac47890d",
   "metadata": {},
   "outputs": [
    {
     "data": {
      "text/plain": [
       "True"
      ]
     },
     "execution_count": 88,
     "metadata": {},
     "output_type": "execute_result"
    }
   ],
   "source": [
    "sp.chi2_contingency(Cancer)[1] < sp.chi2_contingency(Cancer2)[1]"
   ]
  },
  {
   "cell_type": "markdown",
   "id": "dbbadef2",
   "metadata": {},
   "source": [
    "La p-value du premier test est bien inférieure à celle de la seconde, donc la dépendance de l'alcool est plus forte que celle du tabac."
   ]
  },
  {
   "cell_type": "markdown",
   "id": "18324d18",
   "metadata": {},
   "source": [
    "## 3.2 Couleur des cheveux  VS couleur des yeux"
   ]
  },
  {
   "cell_type": "markdown",
   "id": "6c79c4ec",
   "metadata": {},
   "source": [
    "### Q1"
   ]
  },
  {
   "cell_type": "code",
   "execution_count": 89,
   "id": "72a18d5b",
   "metadata": {},
   "outputs": [],
   "source": [
    "def Chi2Indep(M,alpha):\n",
    "    m,n=M.shape\n",
    "    t=[]\n",
    "    for i in np.arange(0,m):\n",
    "        for j in range(n):\n",
    "            x=np.sum(M[i,:])*np.sum(M[:,j]) / np.sum(M)\n",
    "            t.append(((M[i,j]-x)**2)/x)\n",
    "    v=np.sum(t)\n",
    "    h=sp.chi2.ppf(1-alpha,(n-1)*(m-1), loc=0, scale=1)\n",
    "    return v < h"
   ]
  },
  {
   "cell_type": "code",
   "execution_count": 90,
   "id": "e0248683",
   "metadata": {},
   "outputs": [
    {
     "data": {
      "text/plain": [
       "False"
      ]
     },
     "execution_count": 90,
     "metadata": {},
     "output_type": "execute_result"
    }
   ],
   "source": [
    "Chi2Indep(Cancer,0.05)"
   ]
  },
  {
   "cell_type": "code",
   "execution_count": 91,
   "id": "7708dbab",
   "metadata": {},
   "outputs": [
    {
     "data": {
      "text/plain": [
       "False"
      ]
     },
     "execution_count": 91,
     "metadata": {},
     "output_type": "execute_result"
    }
   ],
   "source": [
    "Chi2Indep(Cancer2,0.05)"
   ]
  },
  {
   "cell_type": "code",
   "execution_count": 93,
   "id": "7ed5f5d7",
   "metadata": {},
   "outputs": [],
   "source": [
    "F=np.array([[2,41,9],[14,95,34],[7,23,7],[8,9,64]])"
   ]
  },
  {
   "cell_type": "code",
   "execution_count": 94,
   "id": "7ca23e46",
   "metadata": {},
   "outputs": [],
   "source": [
    "H=np.array([[3,42,11],[15,78,50],[7,17,10],[8,8,30]])"
   ]
  },
  {
   "cell_type": "code",
   "execution_count": 95,
   "id": "e514eabf",
   "metadata": {},
   "outputs": [
    {
     "data": {
      "text/plain": [
       "False"
      ]
     },
     "execution_count": 95,
     "metadata": {},
     "output_type": "execute_result"
    }
   ],
   "source": [
    "Chi2Indep(F,0.05)"
   ]
  },
  {
   "cell_type": "code",
   "execution_count": 96,
   "id": "44267b3b",
   "metadata": {},
   "outputs": [
    {
     "data": {
      "text/plain": [
       "False"
      ]
     },
     "execution_count": 96,
     "metadata": {},
     "output_type": "execute_result"
    }
   ],
   "source": [
    "Chi2Indep(H,0.05)"
   ]
  },
  {
   "cell_type": "code",
   "execution_count": 100,
   "id": "8435393f-04d9-412d-82d4-9d52dfb7d159",
   "metadata": {},
   "outputs": [
    {
     "data": {
      "text/plain": [
       "True"
      ]
     },
     "execution_count": 100,
     "metadata": {},
     "output_type": "execute_result"
    }
   ],
   "source": [
    "SexeYeux = np.array([[33,31,64],[145,168,313],[101,114,215],[282,313,592]])\n",
    "Chi2Indep(SexeYeux, 0.05)"
   ]
  },
  {
   "cell_type": "code",
   "execution_count": 98,
   "id": "1019c580",
   "metadata": {},
   "outputs": [
    {
     "data": {
      "text/plain": [
       "True"
      ]
     },
     "execution_count": 98,
     "metadata": {},
     "output_type": "execute_result"
    }
   ],
   "source": [
    "SexeCheveux = np.array([[56,52,108],[143,143,286],[34,37,71],[46,81,127],[279,313,592]])\n",
    "Chi2Indep(SexeCheveux,0.05)"
   ]
  },
  {
   "cell_type": "code",
   "execution_count": 101,
   "id": "3b542637",
   "metadata": {},
   "outputs": [
    {
     "data": {
      "text/plain": [
       "False"
      ]
     },
     "execution_count": 101,
     "metadata": {},
     "output_type": "execute_result"
    }
   ],
   "source": [
    "YeuxCheveux = np.array([[5,83,20,108],[29,173,84,286],[14,40,17,71],[16,17,94,127],[64,313,215,592]])\n",
    "Chi2Indep(YeuxCheveux, 0.05)"
   ]
  },
  {
   "cell_type": "markdown",
   "id": "4b21cb08-21ed-47e4-a125-f0d640294fe9",
   "metadata": {},
   "source": [
    "Ainsi, on peut voir que l'on accepte H0 pour les deux premiers tests, ce qui veut dire qu'il y aurait une indépendance entre la couleur des yeux et le sexe et la couleur des cheveux et le sexe. En revanche, on rejette H0 lors du dernier test, ce qui veut dire qu'il y aurait un lien entre la couleur des yeux et des celle des cheveux."
   ]
  }
 ],
 "metadata": {
  "kernelspec": {
   "display_name": "Python 3",
   "language": "python",
   "name": "python3"
  },
  "language_info": {
   "codemirror_mode": {
    "name": "ipython",
    "version": 3
   },
   "file_extension": ".py",
   "mimetype": "text/x-python",
   "name": "python",
   "nbconvert_exporter": "python",
   "pygments_lexer": "ipython3",
   "version": "3.8.8"
  }
 },
 "nbformat": 4,
 "nbformat_minor": 5
}
