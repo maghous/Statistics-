{
 "cells": [
  {
   "cell_type": "code",
   "execution_count": 1,
   "id": "efa6a59d",
   "metadata": {},
   "outputs": [],
   "source": [
    "import numpy as np\n",
    "import matplotlib.pyplot as plt\n",
    "import scipy.stats as sp \n",
    "import pandas as pd"
   ]
  },
  {
   "cell_type": "code",
   "execution_count": 2,
   "id": "b4a06113",
   "metadata": {},
   "outputs": [
    {
     "data": {
      "text/plain": [
       "Index(['Name', 'NativeName', 'CallingCode', 'Iso3166P1Alpha2Code',\n",
       "       'Iso3166P1Alpha3Code', 'Iso3166P1NumericCode', 'Isni', 'Pop2010',\n",
       "       'Pop2011', 'Pop2012', 'Pop2013', 'Pop2014', 'Pop2015', 'Pop2016',\n",
       "       'Pop2017', 'Pop2018', 'Pop2019'],\n",
       "      dtype='object')"
      ]
     },
     "execution_count": 2,
     "metadata": {},
     "output_type": "execute_result"
    }
   ],
   "source": [
    "#exercice 1\n",
    "#Q1\n",
    "dat=pd.read_csv('Population.csv')\n",
    "dat.columns"
   ]
  },
  {
   "cell_type": "code",
   "execution_count": 3,
   "id": "205fff45",
   "metadata": {},
   "outputs": [
    {
     "name": "stdout",
     "output_type": "stream",
     "text": [
      "<class 'pandas.core.frame.DataFrame'>\n",
      "RangeIndex: 192 entries, 0 to 191\n",
      "Data columns (total 17 columns):\n",
      " #   Column                Non-Null Count  Dtype \n",
      "---  ------                --------------  ----- \n",
      " 0   Name                  192 non-null    object\n",
      " 1   NativeName            192 non-null    object\n",
      " 2   CallingCode           192 non-null    int64 \n",
      " 3   Iso3166P1Alpha2Code   191 non-null    object\n",
      " 4   Iso3166P1Alpha3Code   192 non-null    object\n",
      " 5   Iso3166P1NumericCode  192 non-null    int64 \n",
      " 6   Isni                  158 non-null    object\n",
      " 7   Pop2010               192 non-null    int64 \n",
      " 8   Pop2011               192 non-null    int64 \n",
      " 9   Pop2012               192 non-null    int64 \n",
      " 10  Pop2013               192 non-null    int64 \n",
      " 11  Pop2014               192 non-null    int64 \n",
      " 12  Pop2015               192 non-null    int64 \n",
      " 13  Pop2016               192 non-null    int64 \n",
      " 14  Pop2017               192 non-null    int64 \n",
      " 15  Pop2018               192 non-null    int64 \n",
      " 16  Pop2019               192 non-null    int64 \n",
      "dtypes: int64(12), object(5)\n",
      "memory usage: 25.6+ KB\n"
     ]
    }
   ],
   "source": [
    "#Q2\n",
    "dat.info()"
   ]
  },
  {
   "cell_type": "code",
   "execution_count": 4,
   "id": "7257c6e4",
   "metadata": {},
   "outputs": [
    {
     "name": "stdout",
     "output_type": "stream",
     "text": [
      "7612218822\n",
      "6867408505\n"
     ]
    }
   ],
   "source": [
    "#Q3\n",
    "#la population  total en 2019\n",
    "print(dat[\"Pop2019\"].sum())\n",
    "#la population  total en 2010\n",
    "print(dat[\"Pop2010\"].sum())\n"
   ]
  },
  {
   "cell_type": "code",
   "execution_count": 5,
   "id": "9adadef2",
   "metadata": {},
   "outputs": [
    {
     "name": "stdout",
     "output_type": "stream",
     "text": [
      "0.9604853814044926\n",
      "6.885378255795889\n"
     ]
    },
    {
     "name": "stderr",
     "output_type": "stream",
     "text": [
      "<ipython-input-5-af00d322642d>:3: SettingWithCopyWarning: \n",
      "A value is trying to be set on a copy of a slice from a DataFrame.\n",
      "Try using .loc[row_indexer,col_indexer] = value instead\n",
      "\n",
      "See the caveats in the documentation: https://pandas.pydata.org/pandas-docs/stable/user_guide/indexing.html#returning-a-view-versus-a-copy\n",
      "  tab[\"Pop2011\"]=np.log10(dat['Pop2011'])\n"
     ]
    }
   ],
   "source": [
    "#q4 \n",
    "tab=dat[[\"Name\",\"Pop2011\"]]\n",
    "tab[\"Pop2011\"]=np.log10(dat['Pop2011'])\n",
    "#le minimum\n",
    "moy=np.mean(tab[\"Pop2011\"])\n",
    "#l'Ã©cart type \n",
    "print(np.std(tab[\"Pop2011\"]))\n",
    "#la mÃ©diane\n",
    "var=np.median(tab['Pop2011'])\n",
    "#les quartiles\n",
    "print(np.quantile(tab[\"Pop2011\"],0.5))"
   ]
  },
  {
   "cell_type": "code",
   "execution_count": 6,
   "id": "29d83463",
   "metadata": {},
   "outputs": [
    {
     "data": {
      "image/png": "[encoded data removed]",
      "text/plain": [
       "<Figure size 432x288 with 1 Axes>"
      ]
     },
     "metadata": {
      "needs_background": "light"
     },
     "output_type": "display_data"
    }
   ],
   "source": [
    "#q5\n",
    "plt.figure()\n",
    "plt.boxplot(tab[\"Pop2011\"])\n",
    "plt.hlines(moy, 0.7, 1.3, 'r', label='Moyenne')\n",
    "plt.hlines(np.quantile(tab[\"Pop2011\"], 0.25), 0.7, 1.3, 'g', label='Quartiles')\n",
    "plt.hlines(np.quantile(tab[\"Pop2011\"], 0.75), 0.7, 1.3, 'g')\n",
    "plt.hlines(var, 0.7, 1.3, label='Ecart-type')\n",
    "plt.legend()\n",
    "plt.show()"
   ]
  },
  {
   "cell_type": "code",
   "execution_count": 7,
   "id": "b7baa577",
   "metadata": {},
   "outputs": [
    {
     "data": {
      "text/plain": [
       "27    People's Republic of China\n",
       "76                         India\n",
       "Name: Name, dtype: object"
      ]
     },
     "execution_count": 7,
     "metadata": {},
     "output_type": "execute_result"
    }
   ],
   "source": [
    "#Q6\n",
    "x = dat[dat.Pop2019>1000000000]\n",
    "x['Name']"
   ]
  },
  {
   "cell_type": "code",
   "execution_count": 8,
   "id": "b82ac229",
   "metadata": {},
   "outputs": [
    {
     "name": "stdout",
     "output_type": "stream",
     "text": [
      "\n",
      "Nombre de pays comptant moins de monde en 2019 qu'en 2010 : 21\n"
     ]
    }
   ],
   "source": [
    "#q7\n",
    "print(\"\\nNombre de pays comptant moins de monde en 2019 qu'en 2010 :\",\n",
    "      dat[dat.Pop2019 < dat.Pop2010].shape[0])"
   ]
  },
  {
   "cell_type": "code",
   "execution_count": 9,
   "id": "96a174d9",
   "metadata": {},
   "outputs": [
    {
     "name": "stdout",
     "output_type": "stream",
     "text": [
      "161    Eritrea\n",
      "Name: Name, dtype: object\n",
      "161    Eritrea\n",
      "Name: Name, dtype: object\n",
      "161    Eritrea\n",
      "Name: Name, dtype: object\n",
      "161    Eritrea\n",
      "Name: Name, dtype: object\n",
      "161    Eritrea\n",
      "Name: Name, dtype: object\n",
      "161    Eritrea\n",
      "Name: Name, dtype: object\n",
      "161    Eritrea\n",
      "Name: Name, dtype: object\n",
      "161    Eritrea\n",
      "Name: Name, dtype: object\n"
     ]
    }
   ],
   "source": [
    "#q8\n",
    "for k in range(9, 17):\n",
    "    print(dat[dat.iloc[:,k]==0]['Name'])"
   ]
  },
  {
   "cell_type": "code",
   "execution_count": 10,
   "id": "521ea676",
   "metadata": {},
   "outputs": [
    {
     "data": {
      "text/plain": [
       "127    Oman\n",
       "Name: Name, dtype: object"
      ]
     },
     "execution_count": 10,
     "metadata": {},
     "output_type": "execute_result"
    }
   ],
   "source": [
    "#q9\n",
    "accroissement = dat.Pop2019/dat.Pop2010\n",
    "dat['accroissement']=dat.Pop2019/dat.Pop2010\n",
    "r=dat[accroissement>1.63]\n",
    "r[\"Name\"]"
   ]
  },
  {
   "cell_type": "code",
   "execution_count": 13,
   "id": "d45a7937",
   "metadata": {},
   "outputs": [],
   "source": [
    "#Manipulation de vecteur gaussien \n",
    "#q1\n",
    "import pandas as pd \n",
    "pf=pd.read_csv(\"Gauss.csv\")"
   ]
  },
  {
   "cell_type": "code",
   "execution_count": 14,
   "id": "c99126c2",
   "metadata": {},
   "outputs": [
    {
     "data": {
      "text/html": [
       "<div>\n",
       "<style scoped>\n",
       "    .dataframe tbody tr th:only-of-type {\n",
       "        vertical-align: middle;\n",
       "    }\n",
       "\n",
       "    .dataframe tbody tr th {\n",
       "        vertical-align: top;\n",
       "    }\n",
       "\n",
       "    .dataframe thead th {\n",
       "        text-align: right;\n",
       "    }\n",
       "</style>\n",
       "<table border=\"1\" class=\"dataframe\">\n",
       "  <thead>\n",
       "    <tr style=\"text-align: right;\">\n",
       "      <th></th>\n",
       "      <th>data1</th>\n",
       "      <th>data2</th>\n",
       "    </tr>\n",
       "  </thead>\n",
       "  <tbody>\n",
       "    <tr>\n",
       "      <th>0</th>\n",
       "      <td>-0.068338</td>\n",
       "      <td>1.558697</td>\n",
       "    </tr>\n",
       "    <tr>\n",
       "      <th>1</th>\n",
       "      <td>-1.084630</td>\n",
       "      <td>-0.742939</td>\n",
       "    </tr>\n",
       "    <tr>\n",
       "      <th>2</th>\n",
       "      <td>-2.437645</td>\n",
       "      <td>-3.043157</td>\n",
       "    </tr>\n",
       "    <tr>\n",
       "      <th>3</th>\n",
       "      <td>-4.236317</td>\n",
       "      <td>-2.445872</td>\n",
       "    </tr>\n",
       "    <tr>\n",
       "      <th>4</th>\n",
       "      <td>-1.568273</td>\n",
       "      <td>-2.957790</td>\n",
       "    </tr>\n",
       "    <tr>\n",
       "      <th>...</th>\n",
       "      <td>...</td>\n",
       "      <td>...</td>\n",
       "    </tr>\n",
       "    <tr>\n",
       "      <th>24995</th>\n",
       "      <td>-1.095453</td>\n",
       "      <td>-2.845726</td>\n",
       "    </tr>\n",
       "    <tr>\n",
       "      <th>24996</th>\n",
       "      <td>-0.145171</td>\n",
       "      <td>3.092745</td>\n",
       "    </tr>\n",
       "    <tr>\n",
       "      <th>24997</th>\n",
       "      <td>1.055801</td>\n",
       "      <td>-2.198241</td>\n",
       "    </tr>\n",
       "    <tr>\n",
       "      <th>24998</th>\n",
       "      <td>1.290644</td>\n",
       "      <td>-0.048310</td>\n",
       "    </tr>\n",
       "    <tr>\n",
       "      <th>24999</th>\n",
       "      <td>0.477543</td>\n",
       "      <td>0.174778</td>\n",
       "    </tr>\n",
       "  </tbody>\n",
       "</table>\n",
       "<p>25000 rows × 2 columns</p>\n",
       "</div>"
      ],
      "text/plain": [
       "          data1     data2\n",
       "0     -0.068338  1.558697\n",
       "1     -1.084630 -0.742939\n",
       "2     -2.437645 -3.043157\n",
       "3     -4.236317 -2.445872\n",
       "4     -1.568273 -2.957790\n",
       "...         ...       ...\n",
       "24995 -1.095453 -2.845726\n",
       "24996 -0.145171  3.092745\n",
       "24997  1.055801 -2.198241\n",
       "24998  1.290644 -0.048310\n",
       "24999  0.477543  0.174778\n",
       "\n",
       "[25000 rows x 2 columns]"
      ]
     },
     "execution_count": 14,
     "metadata": {},
     "output_type": "execute_result"
    }
   ],
   "source": [
    "pf"
   ]
  },
  {
   "cell_type": "code",
   "execution_count": 16,
   "id": "847ccac0",
   "metadata": {},
   "outputs": [
    {
     "data": {
      "image/png": "[encoded data removed]",
      "text/plain": [
       "<Figure size 432x288 with 1 Axes>"
      ]
     },
     "metadata": {
      "needs_background": "light"
     },
     "output_type": "display_data"
    }
   ],
   "source": [
    "import matplotlib.pyplot as plt \n",
    "plt.hist([pf[\"data1\"],pf[\"data2\"]], color = ['yellow', 'green'],\n",
    "            edgecolor = 'red', hatch = '/', label = ['data1', 'data2'],\n",
    "            histtype = 'bar') # bar est le defaut\n",
    "plt.ylabel('valeurs')\n",
    "plt.xlabel('nombres')\n",
    "plt.title('hist')\n",
    "plt.legend();"
   ]
  },
  {
   "cell_type": "code",
   "execution_count": 18,
   "id": "b6a3dacc",
   "metadata": {},
   "outputs": [],
   "source": [
    "#Q2\n",
    "import scipy as sp \n",
    "import scipy.stats as stats"
   ]
  },
  {
   "cell_type": "code",
   "execution_count": 15,
   "id": "8bae9881",
   "metadata": {},
   "outputs": [
    {
     "data": {
      "text/plain": [
       "(0.009319536099600984, 1.4142632204973522)"
      ]
     },
     "execution_count": 15,
     "metadata": {},
     "output_type": "execute_result"
    }
   ],
   "source": [
    "sp.stats.distributions.norm.fit(pf['data1'])"
   ]
  },
  {
   "cell_type": "code",
   "execution_count": 4,
   "id": "1ffd0a41",
   "metadata": {},
   "outputs": [],
   "source": [
    "import pandas as pd \n",
    "import matplotlib.pyplot as plt\n",
    "import scipy.stats as sp \n",
    "import numpy as np\n",
    "\n",
    "dat=pd.read_csv(\"Population.csv\")"
   ]
  },
  {
   "cell_type": "markdown",
   "id": "ade1a425",
   "metadata": {},
   "source": [
    " 1) Premières manipulations de jeux de données"
   ]
  },
  {
   "cell_type": "code",
   "execution_count": 8,
   "id": "4ee3d56d",
   "metadata": {},
   "outputs": [
    {
     "data": {
      "text/plain": [
       "['Name',\n",
       " 'NativeName',\n",
       " 'CallingCode',\n",
       " 'Iso3166P1Alpha2Code',\n",
       " 'Iso3166P1Alpha3Code',\n",
       " 'Iso3166P1NumericCode',\n",
       " 'Isni',\n",
       " 'Pop2010',\n",
       " 'Pop2011',\n",
       " 'Pop2012',\n",
       " 'Pop2013',\n",
       " 'Pop2014',\n",
       " 'Pop2015',\n",
       " 'Pop2016',\n",
       " 'Pop2017',\n",
       " 'Pop2018',\n",
       " 'Pop2019']"
      ]
     },
     "execution_count": 8,
     "metadata": {},
     "output_type": "execute_result"
    }
   ],
   "source": [
    "#question 1\n",
    "dat=pd.read_csv(\"Population.csv\")\n",
    "list(dat.columns)"
   ]
  },
  {
   "cell_type": "code",
   "execution_count": 9,
   "id": "d8087d9b",
   "metadata": {},
   "outputs": [
    {
     "name": "stdout",
     "output_type": "stream",
     "text": [
      "<class 'pandas.core.frame.DataFrame'>\n",
      "RangeIndex: 192 entries, 0 to 191\n",
      "Data columns (total 17 columns):\n",
      " #   Column                Non-Null Count  Dtype \n",
      "---  ------                --------------  ----- \n",
      " 0   Name                  192 non-null    object\n",
      " 1   NativeName            192 non-null    object\n",
      " 2   CallingCode           192 non-null    int64 \n",
      " 3   Iso3166P1Alpha2Code   191 non-null    object\n",
      " 4   Iso3166P1Alpha3Code   192 non-null    object\n",
      " 5   Iso3166P1NumericCode  192 non-null    int64 \n",
      " 6   Isni                  158 non-null    object\n",
      " 7   Pop2010               192 non-null    int64 \n",
      " 8   Pop2011               192 non-null    int64 \n",
      " 9   Pop2012               192 non-null    int64 \n",
      " 10  Pop2013               192 non-null    int64 \n",
      " 11  Pop2014               192 non-null    int64 \n",
      " 12  Pop2015               192 non-null    int64 \n",
      " 13  Pop2016               192 non-null    int64 \n",
      " 14  Pop2017               192 non-null    int64 \n",
      " 15  Pop2018               192 non-null    int64 \n",
      " 16  Pop2019               192 non-null    int64 \n",
      "dtypes: int64(12), object(5)\n",
      "memory usage: 25.6+ KB\n"
     ]
    }
   ],
   "source": [
    "#question 2\n",
    "dat.info()"
   ]
  },
  {
   "cell_type": "code",
   "execution_count": 13,
   "id": "4f450ad8",
   "metadata": {},
   "outputs": [
    {
     "name": "stdout",
     "output_type": "stream",
     "text": [
      "Population en 2010:6867408505\n",
      "Population en 2019:7612218822\n"
     ]
    }
   ],
   "source": [
    "#question 3\n",
    "print('Population en 2010:'+str(np.sum(dat.Pop2010)))\n",
    "print('Population en 2019:'+str(np.sum(dat.Pop2019)))"
   ]
  },
  {
   "cell_type": "code",
   "execution_count": 20,
   "id": "cf7275d3",
   "metadata": {},
   "outputs": [
    {
     "name": "stdout",
     "output_type": "stream",
     "text": [
      "Moyenne:6.735303508817588\n",
      "Ecart-type:0.9604853814044926\n",
      "Minimum:4.002468450128332\n",
      "Maximum:9.128441274337098\n",
      "Médiane:6.885378255795889\n",
      "Q1:6.256678838585951\n",
      "Moyenne:7.386196677259006\n"
     ]
    }
   ],
   "source": [
    "#question 4\n",
    "X=np.log10(dat.Pop2011)\n",
    "print(\"Moyenne:\"+str(np.mean(X)))\n",
    "print(\"Ecart-type:\"+str(np.std(X)))\n",
    "print(\"Minimum:\"+str(min(X)))\n",
    "print(\"Maximum:\"+str(max(X)))\n",
    "print(\"Médiane:\"+str(np.median(X)))\n",
    "print(\"Q1:\"+str(np.quantile(X,0.25)))\n",
    "print(\"Moyenne:\"+str(np.quantile(X,0.75)))\n",
    "\n",
    "\n"
   ]
  },
  {
   "cell_type": "code",
   "execution_count": 23,
   "id": "8c9dd594",
   "metadata": {},
   "outputs": [
    {
     "data": {
      "image/png": "[encoded data removed]",
      "text/plain": [
       "<Figure size 432x288 with 1 Axes>"
      ]
     },
     "metadata": {
      "needs_background": "light"
     },
     "output_type": "display_data"
    }
   ],
   "source": [
    "#question 5\n",
    "plt.boxplot(X);\n",
    "plt.hlines(np.median(X),0.8,1.2,color=\"red\",alpha=0.3);\n",
    "plt.hlines(np.quantile(X,0.25),0.8,1.2,color=\"green\",alpha=0.3);\n",
    "plt.hlines(np.quantile(X,0.75),0.8,1.2,color=\"green\",alpha=0.3);"
   ]
  },
  {
   "cell_type": "code",
   "execution_count": 26,
   "id": "fe4fa72b",
   "metadata": {},
   "outputs": [
    {
     "data": {
      "text/html": [
       "<div>\n",
       "<style scoped>\n",
       "    .dataframe tbody tr th:only-of-type {\n",
       "        vertical-align: middle;\n",
       "    }\n",
       "\n",
       "    .dataframe tbody tr th {\n",
       "        vertical-align: top;\n",
       "    }\n",
       "\n",
       "    .dataframe thead th {\n",
       "        text-align: right;\n",
       "    }\n",
       "</style>\n",
       "<table border=\"1\" class=\"dataframe\">\n",
       "  <thead>\n",
       "    <tr style=\"text-align: right;\">\n",
       "      <th></th>\n",
       "      <th>Name</th>\n",
       "      <th>NativeName</th>\n",
       "      <th>CallingCode</th>\n",
       "      <th>Iso3166P1Alpha2Code</th>\n",
       "      <th>Iso3166P1Alpha3Code</th>\n",
       "      <th>Iso3166P1NumericCode</th>\n",
       "      <th>Isni</th>\n",
       "      <th>Pop2010</th>\n",
       "      <th>Pop2011</th>\n",
       "      <th>Pop2012</th>\n",
       "      <th>Pop2013</th>\n",
       "      <th>Pop2014</th>\n",
       "      <th>Pop2015</th>\n",
       "      <th>Pop2016</th>\n",
       "      <th>Pop2017</th>\n",
       "      <th>Pop2018</th>\n",
       "      <th>Pop2019</th>\n",
       "    </tr>\n",
       "  </thead>\n",
       "  <tbody>\n",
       "    <tr>\n",
       "      <th>27</th>\n",
       "      <td>People's Republic of China</td>\n",
       "      <td>中华人民共和国</td>\n",
       "      <td>86</td>\n",
       "      <td>CN</td>\n",
       "      <td>CHN</td>\n",
       "      <td>156</td>\n",
       "      <td>0000 0001 2160 7811</td>\n",
       "      <td>1337705000</td>\n",
       "      <td>1344130000</td>\n",
       "      <td>1350695000</td>\n",
       "      <td>1357380000</td>\n",
       "      <td>1364270000</td>\n",
       "      <td>1371220000</td>\n",
       "      <td>1378665000</td>\n",
       "      <td>1386395000</td>\n",
       "      <td>1392730000</td>\n",
       "      <td>1397715000</td>\n",
       "    </tr>\n",
       "    <tr>\n",
       "      <th>76</th>\n",
       "      <td>India</td>\n",
       "      <td>Republic of India</td>\n",
       "      <td>91</td>\n",
       "      <td>IN</td>\n",
       "      <td>IND</td>\n",
       "      <td>356</td>\n",
       "      <td>0000 0001 2331 2734</td>\n",
       "      <td>1234281170</td>\n",
       "      <td>1250288729</td>\n",
       "      <td>1265782790</td>\n",
       "      <td>1280846129</td>\n",
       "      <td>1295604184</td>\n",
       "      <td>1310152403</td>\n",
       "      <td>1324509589</td>\n",
       "      <td>1338658835</td>\n",
       "      <td>1352617328</td>\n",
       "      <td>1366417754</td>\n",
       "    </tr>\n",
       "  </tbody>\n",
       "</table>\n",
       "</div>"
      ],
      "text/plain": [
       "                          Name         NativeName  CallingCode  \\\n",
       "27  People's Republic of China            中华人民共和国           86   \n",
       "76                       India  Republic of India           91   \n",
       "\n",
       "   Iso3166P1Alpha2Code Iso3166P1Alpha3Code  Iso3166P1NumericCode  \\\n",
       "27                  CN                 CHN                   156   \n",
       "76                  IN                 IND                   356   \n",
       "\n",
       "                   Isni     Pop2010     Pop2011     Pop2012     Pop2013  \\\n",
       "27  0000 0001 2160 7811  1337705000  1344130000  1350695000  1357380000   \n",
       "76  0000 0001 2331 2734  1234281170  1250288729  1265782790  1280846129   \n",
       "\n",
       "       Pop2014     Pop2015     Pop2016     Pop2017     Pop2018     Pop2019  \n",
       "27  1364270000  1371220000  1378665000  1386395000  1392730000  1397715000  \n",
       "76  1295604184  1310152403  1324509589  1338658835  1352617328  1366417754  "
      ]
     },
     "execution_count": 26,
     "metadata": {},
     "output_type": "execute_result"
    }
   ],
   "source": [
    "#question 6\n",
    "dat[dat.Pop2019>1000000000]"
   ]
  },
  {
   "cell_type": "code",
   "execution_count": 30,
   "id": "bb45fcef",
   "metadata": {},
   "outputs": [
    {
     "data": {
      "text/plain": [
       "20"
      ]
     },
     "execution_count": 30,
     "metadata": {},
     "output_type": "execute_result"
    }
   ],
   "source": [
    "#question 7\n",
    "len(dat[dat.Pop2019<dat.Pop2010])-1"
   ]
  },
  {
   "cell_type": "code",
   "execution_count": 31,
   "id": "04ccbeeb",
   "metadata": {},
   "outputs": [
    {
     "data": {
      "text/html": [
       "<div>\n",
       "<style scoped>\n",
       "    .dataframe tbody tr th:only-of-type {\n",
       "        vertical-align: middle;\n",
       "    }\n",
       "\n",
       "    .dataframe tbody tr th {\n",
       "        vertical-align: top;\n",
       "    }\n",
       "\n",
       "    .dataframe thead th {\n",
       "        text-align: right;\n",
       "    }\n",
       "</style>\n",
       "<table border=\"1\" class=\"dataframe\">\n",
       "  <thead>\n",
       "    <tr style=\"text-align: right;\">\n",
       "      <th></th>\n",
       "      <th>Name</th>\n",
       "      <th>NativeName</th>\n",
       "      <th>CallingCode</th>\n",
       "      <th>Iso3166P1Alpha2Code</th>\n",
       "      <th>Iso3166P1Alpha3Code</th>\n",
       "      <th>Iso3166P1NumericCode</th>\n",
       "      <th>Isni</th>\n",
       "      <th>Pop2010</th>\n",
       "      <th>Pop2011</th>\n",
       "      <th>Pop2012</th>\n",
       "      <th>Pop2013</th>\n",
       "      <th>Pop2014</th>\n",
       "      <th>Pop2015</th>\n",
       "      <th>Pop2016</th>\n",
       "      <th>Pop2017</th>\n",
       "      <th>Pop2018</th>\n",
       "      <th>Pop2019</th>\n",
       "    </tr>\n",
       "  </thead>\n",
       "  <tbody>\n",
       "    <tr>\n",
       "      <th>161</th>\n",
       "      <td>Eritrea</td>\n",
       "      <td>دولة إرتريا</td>\n",
       "      <td>291</td>\n",
       "      <td>ER</td>\n",
       "      <td>ERI</td>\n",
       "      <td>232</td>\n",
       "      <td>0000 0001 2186 9846</td>\n",
       "      <td>3170435</td>\n",
       "      <td>3213972</td>\n",
       "      <td>0</td>\n",
       "      <td>0</td>\n",
       "      <td>0</td>\n",
       "      <td>0</td>\n",
       "      <td>0</td>\n",
       "      <td>0</td>\n",
       "      <td>0</td>\n",
       "      <td>0</td>\n",
       "    </tr>\n",
       "  </tbody>\n",
       "</table>\n",
       "</div>"
      ],
      "text/plain": [
       "        Name   NativeName  CallingCode Iso3166P1Alpha2Code  \\\n",
       "161  Eritrea  دولة إرتريا          291                  ER   \n",
       "\n",
       "    Iso3166P1Alpha3Code  Iso3166P1NumericCode                 Isni  Pop2010  \\\n",
       "161                 ERI                   232  0000 0001 2186 9846  3170435   \n",
       "\n",
       "     Pop2011  Pop2012  Pop2013  Pop2014  Pop2015  Pop2016  Pop2017  Pop2018  \\\n",
       "161  3213972        0        0        0        0        0        0        0   \n",
       "\n",
       "     Pop2019  \n",
       "161        0  "
      ]
     },
     "execution_count": 31,
     "metadata": {},
     "output_type": "execute_result"
    }
   ],
   "source": [
    "#question 8\n",
    "dat[dat.Pop2012==0]"
   ]
  },
  {
   "cell_type": "code",
   "execution_count": 34,
   "id": "26d5601b",
   "metadata": {},
   "outputs": [
    {
     "data": {
      "text/html": [
       "<div>\n",
       "<style scoped>\n",
       "    .dataframe tbody tr th:only-of-type {\n",
       "        vertical-align: middle;\n",
       "    }\n",
       "\n",
       "    .dataframe tbody tr th {\n",
       "        vertical-align: top;\n",
       "    }\n",
       "\n",
       "    .dataframe thead th {\n",
       "        text-align: right;\n",
       "    }\n",
       "</style>\n",
       "<table border=\"1\" class=\"dataframe\">\n",
       "  <thead>\n",
       "    <tr style=\"text-align: right;\">\n",
       "      <th></th>\n",
       "      <th>Name</th>\n",
       "      <th>NativeName</th>\n",
       "      <th>CallingCode</th>\n",
       "      <th>Iso3166P1Alpha2Code</th>\n",
       "      <th>Iso3166P1Alpha3Code</th>\n",
       "      <th>Iso3166P1NumericCode</th>\n",
       "      <th>Isni</th>\n",
       "      <th>Pop2010</th>\n",
       "      <th>Pop2011</th>\n",
       "      <th>Pop2012</th>\n",
       "      <th>Pop2013</th>\n",
       "      <th>Pop2014</th>\n",
       "      <th>Pop2015</th>\n",
       "      <th>Pop2016</th>\n",
       "      <th>Pop2017</th>\n",
       "      <th>Pop2018</th>\n",
       "      <th>Pop2019</th>\n",
       "    </tr>\n",
       "  </thead>\n",
       "  <tbody>\n",
       "    <tr>\n",
       "      <th>127</th>\n",
       "      <td>Oman</td>\n",
       "      <td>سلطنة عُمان</td>\n",
       "      <td>968</td>\n",
       "      <td>OM</td>\n",
       "      <td>OMN</td>\n",
       "      <td>512</td>\n",
       "      <td>0000 0001 2315 0309</td>\n",
       "      <td>3041434</td>\n",
       "      <td>3251108</td>\n",
       "      <td>3498029</td>\n",
       "      <td>3764805</td>\n",
       "      <td>4027260</td>\n",
       "      <td>4267348</td>\n",
       "      <td>4479219</td>\n",
       "      <td>4665935</td>\n",
       "      <td>4829483</td>\n",
       "      <td>4974986</td>\n",
       "    </tr>\n",
       "  </tbody>\n",
       "</table>\n",
       "</div>"
      ],
      "text/plain": [
       "     Name   NativeName  CallingCode Iso3166P1Alpha2Code Iso3166P1Alpha3Code  \\\n",
       "127  Oman  سلطنة عُمان          968                  OM                 OMN   \n",
       "\n",
       "     Iso3166P1NumericCode                 Isni  Pop2010  Pop2011  Pop2012  \\\n",
       "127                   512  0000 0001 2315 0309  3041434  3251108  3498029   \n",
       "\n",
       "     Pop2013  Pop2014  Pop2015  Pop2016  Pop2017  Pop2018  Pop2019  \n",
       "127  3764805  4027260  4267348  4479219  4665935  4829483  4974986  "
      ]
     },
     "execution_count": 34,
     "metadata": {},
     "output_type": "execute_result"
    }
   ],
   "source": [
    "#question 9\n",
    "acc=(dat.Pop2019-dat.Pop2010)/dat.Pop2010\n",
    "dat[acc == max(acc)]"
   ]
  },
  {
   "cell_type": "markdown",
   "id": "cc253597",
   "metadata": {},
   "source": [
    "2) prévision de retards de train"
   ]
  },
  {
   "cell_type": "markdown",
   "id": "83a27555",
   "metadata": {},
   "source": [
    "2.1) probabilité de retard "
   ]
  },
  {
   "cell_type": "code",
   "execution_count": 20,
   "id": "dca46d14",
   "metadata": {},
   "outputs": [
    {
     "name": "stdout",
     "output_type": "stream",
     "text": [
      "<class 'pandas.core.frame.DataFrame'>\n",
      "RangeIndex: 7704 entries, 0 to 7703\n",
      "Data columns (total 16 columns):\n",
      " #   Column                                               Non-Null Count  Dtype  \n",
      "---  ------                                               --------------  -----  \n",
      " 0   Annee                                                7704 non-null   int64  \n",
      " 1   Mois                                                 7704 non-null   float64\n",
      " 2   Gare de depart                                       7704 non-null   object \n",
      " 3   Gare d'arrivee                                       7704 non-null   object \n",
      " 4   Duree moyenne de trajet (min)                        7704 non-null   float64\n",
      " 5   Nombre de trains prevu                               7704 non-null   float64\n",
      " 6   Nombre de trains annullees                           7704 non-null   float64\n",
      " 7   Nombre de trains en retard au depart                 7704 non-null   float64\n",
      " 8   Retard moyen des trains en retard au depart (min)    7704 non-null   float64\n",
      " 9   Retard moyen de tous les trains au depart (min)      7704 non-null   float64\n",
      " 10  Nombre de trains en retard a l'arrivee               7704 non-null   float64\n",
      " 11  Retard moyen des trains en retard a l'arrivee (min)  7704 non-null   float64\n",
      " 12  Retard moyen de tous les trains a l'arrivee (min)    7704 non-null   float64\n",
      " 13  Nombre de trains avec un retard > 15min              7704 non-null   float64\n",
      " 14  Nombre de trains avec un retard > 30min              7704 non-null   float64\n",
      " 15  Nombre de trains avec un retard > 60min              7704 non-null   float64\n",
      "dtypes: float64(13), int64(1), object(2)\n",
      "memory usage: 963.1+ KB\n"
     ]
    }
   ],
   "source": [
    "#question 1\n",
    "dat=pd.read_csv(\"SNCF.csv\")\n",
    "dat.info()"
   ]
  },
  {
   "cell_type": "code",
   "execution_count": 21,
   "id": "70126ba0",
   "metadata": {},
   "outputs": [],
   "source": [
    "#question 2\n",
    "prop1=dat[\"Nombre de trains avec un retard > 15min\"]/dat[\"Nombre de trains prevu\"]\n",
    "prop2=dat[\"Nombre de trains avec un retard > 30min\"]/dat[\"Nombre de trains prevu\"]\n",
    "prop3=dat[\"Nombre de trains avec un retard > 60min\"]/dat[\"Nombre de trains prevu\"]"
   ]
  },
  {
   "cell_type": "code",
   "execution_count": 26,
   "id": "2e5104f9",
   "metadata": {},
   "outputs": [
    {
     "data": {
      "image/png": "[encoded data removed]",
      "text/plain": [
       "<Figure size 1440x720 with 1 Axes>"
      ]
     },
     "metadata": {
      "needs_background": "light"
     },
     "output_type": "display_data"
    }
   ],
   "source": [
    "#question3\n",
    "plt.figure(figsize=(20,10))\n",
    "plt.hist(prop1,bins=50,density=True,alpha=0.70,label=\"la proportion de train ayant plus de 15 de retard\")\n",
    "plt.hist(prop2,bins=50,density=True,alpha=0.70,label=\"la proportion de train ayant plus de 30 de retard\")\n",
    "plt.hist(prop3,bins=50,density=True,alpha=0.70,label=\"la proportion de train ayant plus de 60 de retard\")\n",
    "plt.xlim(0,0.3)\n",
    "plt.legend()\n",
    "plt.show()"
   ]
  },
  {
   "cell_type": "code",
   "execution_count": 49,
   "id": "9235aeff",
   "metadata": {},
   "outputs": [
    {
     "data": {
      "image/png": "[encoded data removed]",
      "text/plain": [
       "<Figure size 432x288 with 1 Axes>"
      ]
     },
     "metadata": {
      "needs_background": "light"
     },
     "output_type": "display_data"
    }
   ],
   "source": [
    "#question 4\n",
    "plt.violinplot([prop1,prop2,prop3]);"
   ]
  },
  {
   "cell_type": "code",
   "execution_count": 50,
   "id": "3d43b517",
   "metadata": {},
   "outputs": [
    {
     "data": {
      "image/png": "[encoded data removed]",
      "text/plain": [
       "<Figure size 432x288 with 1 Axes>"
      ]
     },
     "metadata": {
      "needs_background": "light"
     },
     "output_type": "display_data"
    }
   ],
   "source": [
    "#question 5\n",
    "plt.boxplot([prop1,prop2,prop3]);"
   ]
  },
  {
   "cell_type": "code",
   "execution_count": 52,
   "id": "ad280e6a",
   "metadata": {},
   "outputs": [
    {
     "name": "stdout",
     "output_type": "stream",
     "text": [
      "Ic proba de retard > 15min:[0.0181122 0.2683258]\n",
      "Ic proba de retard > 30min:[0.         0.13532982]\n",
      "Ic proba de retard > 60min:[0.         0.06048912]\n"
     ]
    }
   ],
   "source": [
    "#question 6\n",
    "print(\"Ic proba de retard > 15min:\" + str(np.quantile(prop1,[0.025,0.975])))\n",
    "print(\"Ic proba de retard > 30min:\" + str(np.quantile(prop2,[0.025,0.975])))\n",
    "print(\"Ic proba de retard > 60min:\" + str(np.quantile(prop3,[0.025,0.975])))"
   ]
  },
  {
   "cell_type": "markdown",
   "id": "e86e94c9",
   "metadata": {},
   "source": [
    "2)Temps de retard "
   ]
  },
  {
   "cell_type": "code",
   "execution_count": 54,
   "id": "ea8316bd",
   "metadata": {},
   "outputs": [
    {
     "data": {
      "image/png": "[encoded data removed]",
      "text/plain": [
       "<Figure size 432x288 with 1 Axes>"
      ]
     },
     "metadata": {
      "needs_background": "light"
     },
     "output_type": "display_data"
    }
   ],
   "source": [
    "#question 1\n",
    "plt.scatter(dat['Duree moyenne de trajet (min)'], dat[\"Retard moyen des trains en retard a l'arrivee (min)\"],color=\"red\");"
   ]
  },
  {
   "cell_type": "code",
   "execution_count": 61,
   "id": "d8ebe0c0",
   "metadata": {},
   "outputs": [
    {
     "data": {
      "image/png": "[encoded data removed]",
      "text/plain": [
       "<Figure size 432x288 with 1 Axes>"
      ]
     },
     "metadata": {
      "needs_background": "light"
     },
     "output_type": "display_data"
    }
   ],
   "source": [
    "#question 2\n",
    "reg = np.polyfit(dat['Duree moyenne de trajet (min)'], dat[\"Retard moyen des trains en retard a l'arrivee (min)\"], 1)\n",
    "x = np.linspace(40,500,10)\n",
    "plt.scatter(dat['Duree moyenne de trajet (min)'], dat[\"Retard moyen des trains en retard a l'arrivee (min)\"])\n",
    "plt.plot(x, reg[0]*x + reg[1], color=\"red\");"
   ]
  },
  {
   "cell_type": "code",
   "execution_count": 65,
   "id": "019d3d67",
   "metadata": {},
   "outputs": [
    {
     "data": {
      "text/plain": [
       "145.54382320568698"
      ]
     },
     "execution_count": 65,
     "metadata": {},
     "output_type": "execute_result"
    }
   ],
   "source": [
    "#question 3\n",
    "error=dat[\"Retard moyen des trains en retard a l'arrivee (min)\"]-(reg[0]*dat['Duree moyenne de trajet (min)']+reg[1])\n",
    "r=np.var(error)\n",
    "r"
   ]
  },
  {
   "cell_type": "code",
   "execution_count": 66,
   "id": "30f07209",
   "metadata": {},
   "outputs": [
    {
     "data": {
      "text/plain": [
       "array([10.30175159, 57.59236814])"
      ]
     },
     "execution_count": 66,
     "metadata": {},
     "output_type": "execute_result"
    }
   ],
   "source": [
    "#question 4\n",
    "def EstimRetard(x, alpha):\n",
    "    reg = np.polyfit(dat['Duree moyenne de trajet (min)'], dat[\"Retard moyen des trains en retard a l'arrivee (min)\"], 1)\n",
    "    error = dat[\"Retard moyen des trains en retard a l'arrivee (min)\"]-(reg[0]*dat['Duree moyenne de trajet (min)']+reg[1])\n",
    "    var_error = np.var(error)\n",
    "    estim = reg[0]*x + reg[1]\n",
    "    return sp.norm.ppf([alpha/2,1-alpha/2], loc=estim, scale=np.sqrt(var_error))\n",
    "\n",
    "EstimRetard(180, 0.05)"
   ]
  },
  {
   "cell_type": "markdown",
   "id": "63a13ee5",
   "metadata": {},
   "source": [
    "## 3 manipulation de vecteur gaussien "
   ]
  },
  {
   "cell_type": "code",
   "execution_count": 93,
   "id": "978134aa",
   "metadata": {},
   "outputs": [
    {
     "data": {
      "image/png": "[encoded data removed]",
      "text/plain": [
       "<Figure size 720x360 with 2 Axes>"
      ]
     },
     "metadata": {
      "needs_background": "light"
     },
     "output_type": "display_data"
    }
   ],
   "source": [
    "#question 1\n",
    "dat=pd.read_csv(\"Gauss.csv\")\n",
    "fig,ax=plt.subplots(1,2,figsize=(10,5))\n",
    "ax[0].hist(dat.data1,density=True,bins=70)\n",
    "ax[1].hist(dat.data2,density=True,bins=70,color='red')\n",
    "plt.show()"
   ]
  },
  {
   "cell_type": "code",
   "execution_count": 94,
   "id": "c86f56a2",
   "metadata": {},
   "outputs": [
    {
     "data": {
      "text/plain": [
       "(2.000140456851544, 4.976826094303001)"
      ]
     },
     "execution_count": 94,
     "metadata": {},
     "output_type": "execute_result"
    }
   ],
   "source": [
    "#question 2\n",
    "var1=np.var(dat.data1)\n",
    "var2=np.var(dat.data2)\n",
    "var1,var2"
   ]
  },
  {
   "cell_type": "code",
   "execution_count": 96,
   "id": "e5098e75",
   "metadata": {},
   "outputs": [
    {
     "data": {
      "image/png": "[encoded data removed]",
      "text/plain": [
       "<Figure size 720x360 with 2 Axes>"
      ]
     },
     "metadata": {
      "needs_background": "light"
     },
     "output_type": "display_data"
    }
   ],
   "source": [
    "#QUESTION 3\n",
    "fig,ax=plt.subplots(1,2,figsize=(10,5))\n",
    "x=np.linspace(-8,8,500)\n",
    "ax[0].hist(dat.data1,density=True,bins=70)\n",
    "ax[0].plot(x,sp.norm.pdf(x,scale=np.sqrt(var1)))\n",
    "ax[1].hist(dat.data2,density=True,bins=70,color='red')\n",
    "ax[1].plot(x,sp.norm.pdf(x,scale=np.sqrt(var2)))\n",
    "plt.show()"
   ]
  },
  {
   "cell_type": "code",
   "execution_count": 97,
   "id": "da722bb0",
   "metadata": {},
   "outputs": [
    {
     "data": {
      "image/png": "[encoded data removed]",
      "text/plain": [
       "<Figure size 432x288 with 1 Axes>"
      ]
     },
     "metadata": {
      "needs_background": "light"
     },
     "output_type": "display_data"
    }
   ],
   "source": [
    "#question 4\n",
    "plt.scatter(dat.data1,dat.data2);"
   ]
  },
  {
   "cell_type": "code",
   "execution_count": 99,
   "id": "5dbc75bb",
   "metadata": {},
   "outputs": [
    {
     "data": {
      "text/plain": [
       "matrix([[2.00022047, 1.00253072],\n",
       "        [1.00253072, 4.97702518]])"
      ]
     },
     "execution_count": 99,
     "metadata": {},
     "output_type": "execute_result"
    }
   ],
   "source": [
    "#question 5\n",
    "M=np.matrix(dat.cov())\n",
    "M"
   ]
  },
  {
   "cell_type": "code",
   "execution_count": 100,
   "id": "5a702b8b",
   "metadata": {},
   "outputs": [
    {
     "data": {
      "image/png": "[encoded data removed]",
      "text/plain": [
       "<Figure size 432x288 with 1 Axes>"
      ]
     },
     "metadata": {
      "needs_background": "light"
     },
     "output_type": "display_data"
    }
   ],
   "source": [
    "#question 6\n",
    "u,v=np.linalg.eig(M)\n",
    "theta=-np.arctan(v[0,1]/v[0,0])\n",
    "t=np.linspace(0,2*np.pi,1000)\n",
    "x = 3*np.sqrt(u[0])*np.cos(t)\n",
    "y = 3*np.sqrt(u[1])*np.sin(t)\n",
    "plt.plot(x*np.cos(theta)-y*np.sin(theta),x*np.sin(theta)+y*np.cos(theta), color=\"red\")\n",
    "plt.scatter(dat.data1, dat.data2);"
   ]
  },
  {
   "cell_type": "markdown",
   "id": "76e6ee32",
   "metadata": {},
   "source": [
    "# 1 Estimation d'une loi normale"
   ]
  },
  {
   "cell_type": "markdown",
   "id": "6e7f02db",
   "metadata": {},
   "source": [
    "## 1.1 Quantiles d'une loi normale"
   ]
  },
  {
   "cell_type": "code",
   "execution_count": 101,
   "id": "d7c8b08a",
   "metadata": {},
   "outputs": [
    {
     "name": "stdout",
     "output_type": "stream",
     "text": [
      "q_0.95: 1.6448536269514722\n",
      "q_0.975: 1.959963984540054\n",
      "q_0.99: 2.3263478740408408\n"
     ]
    }
   ],
   "source": [
    "#question(i)\n",
    "print('q_0.95:',sp.norm.ppf(0.95))\n",
    "print('q_0.975:',sp.norm.ppf(0.975))\n",
    "print('q_0.99:',sp.norm.ppf(0.99))"
   ]
  },
  {
   "cell_type": "code",
   "execution_count": 103,
   "id": "186d77a4",
   "metadata": {},
   "outputs": [
    {
     "name": "stdout",
     "output_type": "stream",
     "text": [
      "Valeurs < q_0.95: 9505\n",
      "Valeurs < q_0.975: 9771\n",
      "Valeurs < q_0.99: 9907\n"
     ]
    }
   ],
   "source": [
    "#question(2)\n",
    "N=sp.norm.rvs(size=10000)\n",
    "print(\"Valeurs < q_0.95:\", np.sum(N <= sp.norm.ppf(0.95)))\n",
    "print(\"Valeurs < q_0.975:\", np.sum(N <= sp.norm.ppf(0.975)))\n",
    "print(\"Valeurs < q_0.99:\", np.sum(N <= sp.norm.ppf(0.99)))"
   ]
  },
  {
   "cell_type": "code",
   "execution_count": 104,
   "id": "4cf2409c",
   "metadata": {},
   "outputs": [
    {
     "name": "stdout",
     "output_type": "stream",
     "text": [
      "|Valeurs| < q_0.95: 9000\n",
      "|Valeurs| < q_0.975: 9503\n"
     ]
    }
   ],
   "source": [
    "#Question (iii)\n",
    "N = sp.norm.rvs(size=10000)\n",
    "print(\"|Valeurs| < q_0.95:\", np.sum(np.abs(N) <= sp.norm.ppf(0.95)))\n",
    "print(\"|Valeurs| < q_0.975:\", np.sum(np.abs(N) <= sp.norm.ppf(0.975)))"
   ]
  },
  {
   "cell_type": "markdown",
   "id": "5c1fe635",
   "metadata": {},
   "source": [
    "## 1.2 Intervalle de confiance pour la moyenne"
   ]
  },
  {
   "cell_type": "code",
   "execution_count": 110,
   "id": "adbb4d98",
   "metadata": {},
   "outputs": [
    {
     "name": "stdout",
     "output_type": "stream",
     "text": [
      "Estimation de mu: 1.2711770992714733\n"
     ]
    }
   ],
   "source": [
    "#question 1\n",
    "dat=np.load('EstimationMoyenne.npy')\n",
    "print('Estimation de mu:',np.mean(dat))"
   ]
  },
  {
   "cell_type": "code",
   "execution_count": 115,
   "id": "e331b631",
   "metadata": {},
   "outputs": [
    {
     "data": {
      "image/png": "[encoded data removed]",
      "text/plain": [
       "<Figure size 432x288 with 1 Axes>"
      ]
     },
     "metadata": {
      "needs_background": "light"
     },
     "output_type": "display_data"
    }
   ],
   "source": [
    "#question 2\n",
    "plt.hist(dat,density=True,bins=50)\n",
    "x=np.linspace(-2,4,1000)\n",
    "plt.plot(x,sp.norm.pdf(x,loc=np.mean(dat)))\n",
    "plt.show()"
   ]
  },
  {
   "cell_type": "code",
   "execution_count": 116,
   "id": "4219fbe2",
   "metadata": {},
   "outputs": [
    {
     "name": "stdout",
     "output_type": "stream",
     "text": [
      "Intervalle de confiance de risque 5%: [1.2273509722426441, 1.3150032263003024]\n",
      "Intervalle de confiance de risque 1%: [1.2135798050597604, 1.3287743934831862]\n"
     ]
    }
   ],
   "source": [
    "#question 3\n",
    "print(\"Intervalle de confiance de risque 5%:\",\n",
    "      [np.mean(dat)-sp.norm.ppf(0.975)/np.sqrt(2000), \n",
    "       np.mean(dat)+sp.norm.ppf(0.975)/np.sqrt(2000)])\n",
    "print(\"Intervalle de confiance de risque 1%:\",\n",
    "      [np.mean(dat)-sp.norm.ppf(0.995)/np.sqrt(2000), \n",
    "       np.mean(dat)+sp.norm.ppf(0.995)/np.sqrt(2000)])"
   ]
  },
  {
   "cell_type": "markdown",
   "id": "6022bf8b",
   "metadata": {},
   "source": [
    "## 1.3 Quantiles d'une loi du $\\chi^2$"
   ]
  },
  {
   "cell_type": "code",
   "execution_count": 119,
   "id": "2a269d68",
   "metadata": {},
   "outputs": [
    {
     "name": "stdout",
     "output_type": "stream",
     "text": [
      "s^10_0.975= 20.483177350807388\n",
      "s^10_0.025= 3.2469727802368413\n"
     ]
    }
   ],
   "source": [
    "#question 1\n",
    "print(\"s^10_0.975=\",sp.chi2.ppf(0.975,10))\n",
    "print(\"s^10_0.025=\",sp.chi2.ppf(0.025,10))"
   ]
  },
  {
   "cell_type": "code",
   "execution_count": 122,
   "id": "780c1ac0",
   "metadata": {},
   "outputs": [
    {
     "name": "stdout",
     "output_type": "stream",
     "text": [
      "valeur < s^10_0.975 : 9755\n",
      "valeur < s^10_0.025 : 257\n"
     ]
    }
   ],
   "source": [
    "#question 2\n",
    "N=sp.chi2.rvs(10,size=10000)\n",
    "print(\"valeur < s^10_0.975 :\",np.sum(N<=sp.chi2.ppf(0.975,10)))\n",
    "print(\"valeur < s^10_0.025 :\",np.sum(N<=sp.chi2.ppf(0.025,10)))"
   ]
  },
  {
   "cell_type": "code",
   "execution_count": 126,
   "id": "3251755b",
   "metadata": {},
   "outputs": [
    {
     "name": "stdout",
     "output_type": "stream",
     "text": [
      "Valeurs dans [s^10_0.025, s^10_0.975]: 9498\n"
     ]
    }
   ],
   "source": [
    "#question 3\n",
    "print(\"Valeurs dans [s^10_0.025, s^10_0.975]:\", \n",
    "      np.sum(np.logical_and(N <= sp.chi2.ppf(0.975, 10), N >= sp.chi2.ppf(0.025, 10))))"
   ]
  },
  {
   "cell_type": "markdown",
   "id": "04b258cf",
   "metadata": {},
   "source": [
    "## 1.4 Intervalle de confiance pour la variance"
   ]
  },
  {
   "cell_type": "code",
   "execution_count": 141,
   "id": "dbf3450a",
   "metadata": {},
   "outputs": [
    {
     "data": {
      "text/plain": [
       "[<matplotlib.lines.Line2D at 0x22beeba0ee0>]"
      ]
     },
     "execution_count": 141,
     "metadata": {},
     "output_type": "execute_result"
    },
    {
     "data": {
      "image/png": "[encoded data removed]",
      "text/plain": [
       "<Figure size 432x288 with 1 Axes>"
      ]
     },
     "metadata": {
      "needs_background": "light"
     },
     "output_type": "display_data"
    }
   ],
   "source": [
    "#question 1\n",
    "dat=np.load(\"EstimationVariance.npy\")\n",
    "plt.hist(dat,density=True,bins=30)\n",
    "x=np.linspace(-6,6,10000)\n",
    "s2=np.var(dat)\n",
    "plt.plot(x,sp.norm.pdf(x,0,np.sqrt(s2)))"
   ]
  },
  {
   "cell_type": "code",
   "execution_count": 142,
   "id": "949226c4",
   "metadata": {},
   "outputs": [
    {
     "name": "stdout",
     "output_type": "stream",
     "text": [
      "Intervalle de confiance de risque 5%: [2.973798756949983, 3.3664563333720565]\n",
      "Intervalle de confiance de risque 1%: [2.917756029345576, 3.4343168644596402]\n"
     ]
    }
   ],
   "source": [
    "#Question (iii)\n",
    "print(\"Intervalle de confiance de risque 5%:\",\n",
    "      [1999*np.var(dat, ddof=1)/sp.chi2.ppf(0.975, 1999),\n",
    "       1999*np.var(dat, ddof=1)/sp.chi2.ppf(0.025, 1999)])\n",
    "print(\"Intervalle de confiance de risque 1%:\",\n",
    "      [1999*np.var(dat, ddof=1)/sp.chi2.ppf(0.995, 1999),\n",
    "       1999*np.var(dat, ddof=1)/sp.chi2.ppf(0.005, 1999)])"
   ]
  },
  {
   "cell_type": "markdown",
   "id": "a7963c45",
   "metadata": {},
   "source": [
    "# 2 Estimation d'une loi de Bernoulli "
   ]
  },
  {
   "cell_type": "markdown",
   "id": "d834462e",
   "metadata": {},
   "source": [
    "## 2.1 Intervalle de confiance"
   ]
  },
  {
   "cell_type": "code",
   "execution_count": 143,
   "id": "8aa26bcb",
   "metadata": {},
   "outputs": [
    {
     "name": "stdout",
     "output_type": "stream",
     "text": [
      "[0.17520819870781754, 0.22479180129218249]\n"
     ]
    }
   ],
   "source": [
    "def ICBernoulli(p_n, n, alpha):\n",
    "    lb = p_n - sp.norm.ppf(1-alpha/2)*np.sqrt(p_n*(1-p_n)/n)\n",
    "    ub = p_n + sp.norm.ppf(1-alpha/2)*np.sqrt(p_n*(1-p_n)/n)\n",
    "    return [lb, ub]\n",
    "print(ICBernoulli(0.2, 1000, 0.05))"
   ]
  },
  {
   "cell_type": "code",
   "execution_count": 144,
   "id": "5e550f9f",
   "metadata": {},
   "outputs": [
    {
     "data": {
      "image/png": "[encoded data removed]",
      "text/plain": [
       "<Figure size 432x288 with 1 Axes>"
      ]
     },
     "metadata": {
      "needs_background": "light"
     },
     "output_type": "display_data"
    },
    {
     "name": "stdout",
     "output_type": "stream",
     "text": [
      "Non, ça dépasse\n"
     ]
    }
   ],
   "source": [
    "#Question (ii) + (iii)\n",
    "p = np.linspace(0, 1, 1000)\n",
    "interv = ICBernoulli(p, 50, 0.05)\n",
    "plt.plot(p, interv[0], color=\"C0\")\n",
    "plt.plot(p, interv[1], color=\"C0\")\n",
    "plt.hlines(0,0,1, color=\"black\", linestyles=\"dashed\")\n",
    "plt.hlines(1,0,1, color=\"black\", linestyles=\"dashed\")\n",
    "plt.show()\n",
    "print(\"Non, ça dépasse\")"
   ]
  },
  {
   "cell_type": "code",
   "execution_count": null,
   "id": "36883798",
   "metadata": {},
   "outputs": [],
   "source": []
  }
 ],
 "metadata": {
  "kernelspec": {
   "display_name": "Python 3",
   "language": "python",
   "name": "python3"
  },
  "language_info": {
   "codemirror_mode": {
    "name": "ipython",
    "version": 3
   },
   "file_extension": ".py",
   "mimetype": "text/x-python",
   "name": "python",
   "nbconvert_exporter": "python",
   "pygments_lexer": "ipython3",
   "version": "3.8.8"
  }
 },
 "nbformat": 4,
 "nbformat_minor": 5
}
